{
 "cells": [
  {
   "cell_type": "code",
   "execution_count": 1,
   "metadata": {},
   "outputs": [],
   "source": [
    "import numpy as np\n",
    "import cv2\n",
    "import time"
   ]
  },
  {
   "cell_type": "code",
   "execution_count": 4,
   "metadata": {},
   "outputs": [],
   "source": [
    "cap = cv2.VideoCapture(0)\n",
    "\n",
    "time.sleep(2)\n",
    "\n",
    "background = 0\n",
    "\n",
    "#capture background\n",
    "for i in range(30):\n",
    "    ret, background = cap.read()\n",
    "\n",
    "while(cap.isOpened()):\n",
    "    ret, img = cap.read()\n",
    "\n",
    "    if not ret:\n",
    "        break\n",
    "\n",
    "    hsv = cv2.cvtColor(img, cv2.COLOR_BGR2HSV)\n",
    "\n",
    "    #hsv limits\n",
    "    lowerRed = np.array([0, 120, 70])\n",
    "    higherRed = np.array([10, 255, 255])\n",
    "    mask1 = cv2.inRange(hsv, lowerRed, higherRed)\n",
    "\n",
    "    lowerRed = np.array([170, 120, 70])\n",
    "    higherRed = np.array([180, 255, 255])\n",
    "    mask2 = cv2.inRange(hsv, lowerRed, higherRed)\n",
    "\n",
    "    mask1 = mask1 + mask2\n",
    "    mask1 = cv2.morphologyEx(mask1, cv2.MORPH_OPEN, np.ones((3, 3), np.uint8), iterations=2) #noise reduction\n",
    "    mask1 = cv2.morphologyEx(mask1, cv2.MORPH_DILATE, np.ones((3, 3), np.uint8), iterations=1)\n",
    "\n",
    "    mask2 = cv2.bitwise_not(mask1)\n",
    "\n",
    "    res1 = cv2.bitwise_and(background, background, mask= mask1)\n",
    "    res2 = cv2.bitwise_and(img, img, mask = mask2)\n",
    "    finalOutput = cv2.addWeighted(res1, 1, res2, 1, 0)\n",
    "\n",
    "    cv2.imshow('invisibility cloak!',finalOutput)\n",
    "    k = cv2.waitKey(10)\n",
    "    if k == 27:\n",
    "        break\n",
    "\n",
    "cap.release()\n",
    "cv2.destroyAllWindows()"
   ]
  },
  {
   "cell_type": "code",
   "execution_count": null,
   "metadata": {},
   "outputs": [],
   "source": []
  }
 ],
 "metadata": {
  "kernelspec": {
   "display_name": "Python 3",
   "language": "python",
   "name": "python3"
  },
  "language_info": {
   "codemirror_mode": {
    "name": "ipython",
    "version": 3
   },
   "file_extension": ".py",
   "mimetype": "text/x-python",
   "name": "python",
   "nbconvert_exporter": "python",
   "pygments_lexer": "ipython3",
   "version": "3.8.5"
  }
 },
 "nbformat": 4,
 "nbformat_minor": 4
}
